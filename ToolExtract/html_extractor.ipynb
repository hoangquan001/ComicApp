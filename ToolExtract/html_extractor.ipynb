{
  "cells": [
    {
      "cell_type": "code",
      "execution_count": 2,
      "metadata": {
        "id": "yoxqp1wzhQiM"
      },
      "outputs": [
        {
          "name": "stdout",
          "output_type": "stream",
          "text": [
            "Requirement already satisfied: jmespath in c:\\users\\acer\\appdata\\local\\programs\\python\\python39\\lib\\site-packages (1.0.1)\n",
            "Requirement already satisfied: parsel in c:\\users\\acer\\appdata\\local\\programs\\python\\python39\\lib\\site-packages (1.9.0)\n",
            "Requirement already satisfied: unidecode in c:\\users\\acer\\appdata\\local\\programs\\python\\python39\\lib\\site-packages (1.3.8)\n",
            "Collecting pyodbc\n",
            "  Downloading pyodbc-5.1.0-cp39-cp39-win_amd64.whl (68 kB)\n",
            "     ---------------------------------------- 68.8/68.8 kB 1.2 MB/s eta 0:00:00\n",
            "Requirement already satisfied: lxml in c:\\users\\acer\\appdata\\local\\programs\\python\\python39\\lib\\site-packages (from parsel) (5.2.0)\n",
            "Requirement already satisfied: cssselect>=1.2.0 in c:\\users\\acer\\appdata\\local\\programs\\python\\python39\\lib\\site-packages (from parsel) (1.2.0)\n",
            "Requirement already satisfied: packaging in c:\\users\\acer\\appdata\\local\\programs\\python\\python39\\lib\\site-packages (from parsel) (21.3)\n",
            "Requirement already satisfied: w3lib>=1.19.0 in c:\\users\\acer\\appdata\\local\\programs\\python\\python39\\lib\\site-packages (from parsel) (2.1.2)\n",
            "Requirement already satisfied: pyparsing!=3.0.5,>=2.0.2 in c:\\users\\acer\\appdata\\local\\programs\\python\\python39\\lib\\site-packages (from packaging->parsel) (2.4.7)\n",
            "Installing collected packages: pyodbc\n",
            "Successfully installed pyodbc-5.1.0\n",
            "Note: you may need to restart the kernel to use updated packages.\n"
          ]
        },
        {
          "name": "stderr",
          "output_type": "stream",
          "text": [
            "\n",
            "[notice] A new release of pip is available: 23.0.1 -> 24.0\n",
            "[notice] To update, run: python.exe -m pip install --upgrade pip\n"
          ]
        }
      ],
      "source": [
        "pip install jmespath parsel unidecode pyodbc"
      ]
    },
    {
      "cell_type": "code",
      "execution_count": 25,
      "metadata": {
        "id": "gCzx9ibLhXFc"
      },
      "outputs": [],
      "source": [
        "import json\n",
        "import requests\n",
        "import jmespath\n",
        "from parsel import Selector\n",
        "import os"
      ]
    },
    {
      "cell_type": "markdown",
      "metadata": {
        "id": "zCQmjdSris6t"
      },
      "source": []
    },
    {
      "cell_type": "code",
      "execution_count": 1,
      "metadata": {},
      "outputs": [],
      "source": [
        "def SaveJSON(fileName,JsonComic):\n",
        "  print(fileName+\"\\n\")\n",
        "  with open(f\"{fileName}.json\", \"w\") as outfile:\n",
        "      json.dump(JsonComic, outfile,indent= 2)"
      ]
    },
    {
      "cell_type": "code",
      "execution_count": 4,
      "metadata": {},
      "outputs": [],
      "source": [
        "f = open('mapComic.json')\n",
        "ListComic = json.load(f)"
      ]
    },
    {
      "cell_type": "code",
      "execution_count": 31,
      "metadata": {},
      "outputs": [
        {
          "name": "stdout",
          "output_type": "stream",
          "text": [
            "732 ke-khung-bo\n",
            "2282 a-story-about-a-very-ordinary-couple\n",
            "6154 cham-soc-cho-chi-dau\n",
            "6337 cham-soc-cho-chi-dau\n",
            "8711 xe-ban-thuc-an-dien-loan\n",
            "9038 purple-hyacinth\n",
            "10513 kimi-wa-maru-de-ano-hana-no-you-de\n",
            "11762 jungle-wa-itsumo-hale-nochi-guu\n",
            "12071 mahoutsukai-to-deshi-no-futekisetsu-na-kankei\n",
            "12074 giao-chu-tan-nhiem-muon-hoan-luong\n",
            "12075 toi-ganh-team-mot-minh\n",
            "12076 toi-co-thuoc-hoi-han\n",
            "12077 majo-senpai-nichijou\n",
            "12127 shinigamihime-no-saikon\n",
            "12135 haru-no-ogawa-wa-dokidoki-suru-yo\n",
            "12136 truyen-sims-write-up-your-life-with-color\n",
            "12284 hong-trang-chuoc-chuoc\n",
            "12285 tatakae-ry-zanpaku-shij-saiky-no-deshi\n",
            "12289 the-gladiator\n",
            "12293 chom-sao-bac-cuc-cua-chung-ta\n",
            "12314 onose-to-sugoshita\n",
            "12316 con-rong-hau-gai\n",
            "12493 miunohri-to-swan-co-nang-xinh-dep\n",
            "12727 chim-yen-khong-ve\n",
            "12772 nhom-nhac-thien-ha-lich\n",
            "14979 nhom-nhac-thien-ha-lich\n",
            "15512 dendrobates\n",
            "15692 choegang-geunyeo\n",
            "16122 te-bao-than-quoc\n",
            "16854 jungle-wa-itsumo-hale-nochi-guu\n",
            "17717 chi-ton-tho-hao-he-thong\n"
          ]
        }
      ],
      "source": [
        "for idx,oneComic in  enumerate(ListComic[\"comic\"]):\n",
        "    flag = os.path.isfile(f\"ComicData/{oneComic['urlComic']}.json\")\n",
        "    if(not flag) :\n",
        "        # continue\n",
        "        print(idx,oneComic['urlComic'])\n",
        "    # f = open(f\"ComicData/{oneComic['urlComic']}.json\")\n",
        "    # data = json.load(f)\n",
        "    # if (not data['URL']):\n",
        "    #     print(idx,oneComic['urlComic'])\n",
        "    #     f.close()\n",
        "    #     os.remove (f\"ComicData/{oneComic['urlComic']}.json\")"
      ]
    },
    {
      "cell_type": "code",
      "execution_count": 38,
      "metadata": {},
      "outputs": [],
      "source": [
        "allcomicstring =\"\"\"\n",
        "        {\n",
        "          \"comic\": props.pageProps.dataComicNew[*].\n",
        "          {\n",
        "            urlComic:urlComic,\n",
        "            totalChapter:totalChapter,\n",
        "            createDateComic:createDateComic,\n",
        "            lastUpdateChapter:lastUpdateChapter\n",
        "          }\n",
        "        }\n",
        "\"\"\"\n",
        "def GetAllComicMapJSON():\n",
        "  ListComic = {\"comic\":[]}\n",
        "  expression = jmespath.compile( allcomicstring )\n",
        "  for idx in range(1, 600):\n",
        "    response = requests.get(f'https://doctruyenonline.vn/truyen-tranh/tim-truyen?status=2&sort=2&page={idx}')\n",
        "    if(response.status_code != 200):\n",
        "      print(f'Fetching Error Page{idx} {response.status_code}')\n",
        "      continue\n",
        "    print(f'Fetching Page{idx} {response.status_code}')\n",
        "    selector = Selector(text=response.text)\n",
        "    json_data = selector.css(\"script[type='application/json']::text\").get()\n",
        "    data = json.loads(json_data)\n",
        "    flat_data = expression.search(data)\n",
        "    if(flat_data[\"comic\"] == []): break\n",
        "    ListComic[\"comic\"].extend(flat_data[\"comic\"])\n",
        "  return ListComic\n"
      ]
    },
    {
      "cell_type": "code",
      "execution_count": null,
      "metadata": {},
      "outputs": [],
      "source": [
        "ListComic = GetAllComicMapJSON()"
      ]
    },
    {
      "cell_type": "code",
      "execution_count": 50,
      "metadata": {},
      "outputs": [],
      "source": [
        "page_not_found = []\n",
        "comic_not_found = []"
      ]
    },
    {
      "cell_type": "code",
      "execution_count": 53,
      "metadata": {},
      "outputs": [],
      "source": [
        "def GetComicJSON(urlComic):\n",
        "  global comic_not_found\n",
        "  response = requests.get(f'https://doctruyenonline.vn/truyen-tranh/{urlComic}')\n",
        "  if (response.status_code != 200):\n",
        "    print(response.status_code)\n",
        "    comic_not_found.append(urlComic)\n",
        "    return None\n",
        "  selector = Selector(text=response.text)\n",
        "  json_data = selector.css(\"script[type='application/json']::text\").get()\n",
        "\n",
        "  data = json.loads(json_data)\n",
        "  expression = jmespath.compile(\n",
        "      \"\"\"\n",
        "      {\n",
        "        \"Title\": props.pageProps.comic[0].nameComic,\n",
        "        \"URL\": props.pageProps.comic[0].urlComic,\n",
        "        \"CoverImage\":   props.pageProps.comic[0].imgComic,\n",
        "        \"CreateAt\":  props.pageProps.comic[0].create_date\n",
        "        \"statusComic\": props.pageProps.comic[0].statusComic\n",
        "        \"Category\":   props.pageProps.comic[0].category[*].name_cate,\n",
        "        \"LastChapter\": props.pageProps.comic[0].lastChapter\n",
        "        \"TotalChapter\": props.pageProps.comic[0].totalChapter\n",
        "        \"Chapters\": props.pageProps.listChapter[0].{urlChapter:urlChapter, dateUpdateChapter: dateUpdateChapter}\n",
        "      }\n",
        "      \"\"\"\n",
        "  )\n",
        "  flat_data = expression.search(data)\n",
        "  return flat_data\n",
        "\n",
        "\n",
        "def fetchData(start = 0, end = 100):\n",
        "    global ListComic\n",
        "    for idx,oneComic in  enumerate(ListComic[\"comic\"][start:end]):\n",
        "        urlComic = oneComic[\"urlComic\"]\n",
        "        JsonComic = GetComicJSON(urlComic)\n",
        "        if (JsonComic == None): continue\n",
        "        print(f\"({idx},{JsonComic['Title']})\")\n",
        "        SaveJSON(f\"ComicData/{urlComic}\",JsonComic)"
      ]
    },
    {
      "cell_type": "code",
      "execution_count": 60,
      "metadata": {},
      "outputs": [
        {
          "name": "stdout",
          "output_type": "stream",
          "text": [
            "100\n",
            "200\n",
            "300\n",
            "400\n",
            "500\n",
            "600\n",
            "700\n",
            "800\n",
            "900\n",
            "1000\n"
          ]
        }
      ],
      "source": [
        "for i in range(100,1100,100):\n",
        "    print(i)"
      ]
    },
    {
      "cell_type": "code",
      "execution_count": null,
      "metadata": {},
      "outputs": [],
      "source": [
        "import threading\n",
        "for i in range(100,10000,100):\n",
        "    th1 = threading.Thread(target=fetchData, args=(i, i+100))\n",
        "    th1.start()"
      ]
    },
    {
      "cell_type": "code",
      "execution_count": 31,
      "metadata": {},
      "outputs": [
        {
          "name": "stdout",
          "output_type": "stream",
          "text": [
            "mapComic\n",
            "\n"
          ]
        }
      ],
      "source": [
        "SaveJSON(f\"mapComic\",ListComic)"
      ]
    },
    {
      "cell_type": "code",
      "execution_count": 9,
      "metadata": {
        "id": "Iipo8GwjsCvH"
      },
      "outputs": [],
      "source": [
        "def GetChapterOfComicJSON(urlComic, chapter=1):\n",
        "  response = requests.get(f'https://doctruyenonline.vn/truyen-tranh/{urlComic}/chapter-{chapter}')\n",
        "  print(response.status_code)\n",
        "  \n",
        "  selector = Selector(text=response.text)\n",
        "  json_data = selector.css(\"script[type='application/json']::text\").get()\n",
        "  data = json.loads(json_data)\n",
        "  expression = jmespath.compile(\n",
        "      \"\"\"\n",
        "      {\n",
        "        \"Page\": props.pageProps.dataContentChapter[*].{indexImg:indexImg,imgChapter:imgChapter}\n",
        "      }\n",
        "      \"\"\"\n",
        "  )\n",
        "  flat_data = expression.search(data)\n",
        "  return flat_data"
      ]
    },
    {
      "cell_type": "code",
      "execution_count": 18,
      "metadata": {
        "id": "MKiD8NGAEtED"
      },
      "outputs": [
        {
          "data": {
            "text/plain": [
              "'tu-tien-o-the-gioi-sieu-nang-luc'"
            ]
          },
          "execution_count": 18,
          "metadata": {},
          "output_type": "execute_result"
        }
      ],
      "source": [
        "import unidecode\n",
        "import re\n",
        "def CreateSlug(accented_string:str):\n",
        "\n",
        "  # accented_string is of type 'unicode'\n",
        "  unaccented_string = unidecode.unidecode(accented_string).lower()\n",
        "  unaccented_string = re.sub(r\"[^\\w\\s]\", '', unaccented_string)\n",
        "  unaccented_string=re.sub(r\"\\s+\",\"-\",unaccented_string)\n",
        "  return unaccented_string\n",
        "\n",
        "CreateSlug(\"Tu Ti\\u00ean \\u1ede Th\\u1ebf Gi\\u1edbi Si\\u00eau N\\u0103ng L\\u1ef1c\")"
      ]
    },
    {
      "cell_type": "code",
      "execution_count": null,
      "metadata": {
        "id": "RPz6vb0Qh1oV"
      },
      "outputs": [],
      "source": [
        "from bs4 import BeautifulSoup\n",
        "\n",
        "# Assuming we have an HTML document in the 'html_content' variable\n",
        "soup = BeautifulSoup(html_content, 'html.parser')\n",
        "\n",
        "# Find the desired element and extract its text using get_text()\n",
        "elements = soup.find_all('span',itemprop=\"name\")\n",
        "\n",
        "#get_text with strip set to true\n",
        "for idx,element in  enumerate(elements):\n",
        "  print(f\"({idx},{element.text})\")"
      ]
    },
    {
      "cell_type": "code",
      "execution_count": null,
      "metadata": {},
      "outputs": [],
      "source": [
        "import pyodbc \n",
        "server = 'DESKTOP-33SUFGJ\\\\SQLEXPRESS'\n",
        "database = 'ComicApp'\n",
        "username = 'your_username'\n",
        "password = 'your_password'\n",
        "connectionString = f'DRIVER={{SQL Server}};SERVER={server};DATABASE={database};'"
      ]
    },
    {
      "cell_type": "code",
      "execution_count": 75,
      "metadata": {},
      "outputs": [],
      "source": [
        "connectionString = 'C:/Users/ACER/Desktop/ComicApp/SQL/ComicDB.db'\n",
        "conn = sqlite3.connect(connectionString)\n",
        "cursor = conn.cursor()"
      ]
    },
    {
      "cell_type": "code",
      "execution_count": 23,
      "metadata": {},
      "outputs": [
        {
          "data": {
            "text/plain": [
              "20633"
            ]
          },
          "execution_count": 23,
          "metadata": {},
          "output_type": "execute_result"
        }
      ],
      "source": [
        "import glob\n",
        "\n",
        "listPath = glob.glob(\"ComicData/*\")\n",
        "len(listPath)"
      ]
    },
    {
      "cell_type": "markdown",
      "metadata": {},
      "source": [
        "# Query all Genre"
      ]
    },
    {
      "cell_type": "code",
      "execution_count": 76,
      "metadata": {},
      "outputs": [
        {
          "ename": "OperationalError",
          "evalue": "database is locked",
          "output_type": "error",
          "traceback": [
            "\u001b[1;31m---------------------------------------------------------------------------\u001b[0m",
            "\u001b[1;31mOperationalError\u001b[0m                          Traceback (most recent call last)",
            "Input \u001b[1;32mIn [76]\u001b[0m, in \u001b[0;36m<cell line: 4>\u001b[1;34m()\u001b[0m\n\u001b[0;32m      1\u001b[0m SQL_QUERY_GENRE \u001b[38;5;241m=\u001b[39m \u001b[38;5;124m\"\"\"\u001b[39m\n\u001b[0;32m      2\u001b[0m \u001b[38;5;124m  Select * from GENRE\u001b[39m\n\u001b[0;32m      3\u001b[0m \u001b[38;5;124m\"\"\"\u001b[39m\n\u001b[1;32m----> 4\u001b[0m \u001b[43mcursor\u001b[49m\u001b[38;5;241;43m.\u001b[39;49m\u001b[43mexecute\u001b[49m\u001b[43m(\u001b[49m\u001b[43mSQL_QUERY_GENRE\u001b[49m\u001b[43m)\u001b[49m\n\u001b[0;32m      5\u001b[0m allGenre \u001b[38;5;241m=\u001b[39m cursor\u001b[38;5;241m.\u001b[39mfetchall()\n\u001b[0;32m      6\u001b[0m dictGenre \u001b[38;5;241m=\u001b[39m {}\n",
            "\u001b[1;31mOperationalError\u001b[0m: database is locked"
          ]
        }
      ],
      "source": [
        "SQL_QUERY_GENRE = \"\"\"\n",
        "  Select * from GENRE\n",
        "\"\"\"\n",
        "cursor.execute(SQL_QUERY_GENRE)\n",
        "allGenre = cursor.fetchall()\n",
        "dictGenre = {}\n",
        "for genre in allGenre:\n",
        "  slug = CreateSlug(genre[1])\n",
        "  dictGenre[slug] = genre[0]\n",
        "dictGenre"
      ]
    },
    {
      "cell_type": "markdown",
      "metadata": {},
      "source": [
        "# Insert genre for comic"
      ]
    },
    {
      "cell_type": "code",
      "execution_count": 21,
      "metadata": {},
      "outputs": [],
      "source": [
        "def FindComicID(cursor,urlComic):\n",
        "  #sql query\n",
        "  SQL_QUERY = f\"\"\"\n",
        "  Select * from COMIC where URL = '{urlComic}'\n",
        "  \"\"\"\n",
        "  cursor.execute(SQL_QUERY)\n",
        "  comic = cursor.fetchone()\n",
        "  if(comic):\n",
        "    return comic[0]\n",
        "  return None"
      ]
    },
    {
      "cell_type": "code",
      "execution_count": 91,
      "metadata": {},
      "outputs": [
        {
          "name": "stdout",
          "output_type": "stream",
          "text": [
            "ComicData\\kakunaru-ue-ha.json\n",
            "ComicData\\ma-nhan-hoa-son.json\n",
            "ComicData\\rakuraku-shinwa.json\n",
            "ComicData\\yuusha-sama-ni-ikinari-kyuukonsareta-no-desu-ga.json\n"
          ]
        }
      ],
      "source": [
        "SQL_QUERY = \"\"\"\n",
        " INSERT INTO COMIC_GENRE (genreid, comicid) VALUES\n",
        "  (?,?)\n",
        "\"\"\"\n",
        "for path in listPath:\n",
        "  f = open(path)\n",
        "  datajson = json.load(f)\n",
        "  if(not datajson['URL']):\n",
        "    print(path)\n",
        "    continue\n",
        "  for genre in datajson['Category']:\n",
        "    slug = CreateSlug(genre)\n",
        "    if(slug not in dictGenre): \n",
        "      continue\n",
        "    genreid = dictGenre[slug]\n",
        "    comicid = FindComicID(cursor,datajson['URL'])\n",
        "    if(comicid == None): continue\n",
        "    VALUES =(genreid,comicid)\n",
        "    cursor.execute(SQL_QUERY,VALUES)\n",
        "    conn.commit()"
      ]
    },
    {
      "cell_type": "code",
      "execution_count": 77,
      "metadata": {},
      "outputs": [],
      "source": [
        "conn.commit()"
      ]
    },
    {
      "cell_type": "code",
      "execution_count": 90,
      "metadata": {},
      "outputs": [
        {
          "ename": "IntegrityError",
          "evalue": "UNIQUE constraint failed: COMIC.URL",
          "output_type": "error",
          "traceback": [
            "\u001b[1;31m---------------------------------------------------------------------------\u001b[0m",
            "\u001b[1;31mIntegrityError\u001b[0m                            Traceback (most recent call last)",
            "Input \u001b[1;32mIn [90]\u001b[0m, in \u001b[0;36m<cell line: 5>\u001b[1;34m()\u001b[0m\n\u001b[0;32m     10\u001b[0m   \u001b[38;5;28;01mcontinue\u001b[39;00m\n\u001b[0;32m     11\u001b[0m VALUES \u001b[38;5;241m=\u001b[39m(datajson[\u001b[38;5;124m'\u001b[39m\u001b[38;5;124mTitle\u001b[39m\u001b[38;5;124m'\u001b[39m],datajson[\u001b[38;5;124m'\u001b[39m\u001b[38;5;124mURL\u001b[39m\u001b[38;5;124m'\u001b[39m],datajson[\u001b[38;5;124m'\u001b[39m\u001b[38;5;124mCoverImage\u001b[39m\u001b[38;5;124m'\u001b[39m],datajson[\u001b[38;5;124m'\u001b[39m\u001b[38;5;124mstatusComic\u001b[39m\u001b[38;5;124m'\u001b[39m],datajson[\u001b[38;5;124m'\u001b[39m\u001b[38;5;124mCreateAt\u001b[39m\u001b[38;5;124m'\u001b[39m],\u001b[38;5;241m10\u001b[39m)\n\u001b[1;32m---> 12\u001b[0m \u001b[43mcursor\u001b[49m\u001b[38;5;241;43m.\u001b[39;49m\u001b[43mexecute\u001b[49m\u001b[43m(\u001b[49m\u001b[43mSQL_QUERY\u001b[49m\u001b[43m,\u001b[49m\u001b[43mVALUES\u001b[49m\u001b[43m)\u001b[49m\n\u001b[0;32m     13\u001b[0m conn\u001b[38;5;241m.\u001b[39mcommit()\n",
            "\u001b[1;31mIntegrityError\u001b[0m: UNIQUE constraint failed: COMIC.URL"
          ]
        }
      ],
      "source": [
        "SQL_QUERY = \"\"\"\n",
        "  INSERT INTO COMIC (Title,URL,CoverImage,Status,CreateAt,Rating) VALUES\n",
        "  (?,?,?,?,?,?)\n",
        "\"\"\"\n",
        "for path in listPath:\n",
        "  f = open(path)\n",
        "  datajson = json.load(f)\n",
        "  if(not datajson['URL']):\n",
        "    print(path)\n",
        "    continue\n",
        "  VALUES =(datajson['Title'],datajson['URL'],datajson['CoverImage'],datajson['statusComic'],datajson['CreateAt'],10)\n",
        "  cursor.execute(SQL_QUERY,VALUES)\n",
        "  conn.commit()\n",
        "# cursor.close()\n"
      ]
    },
    {
      "cell_type": "code",
      "execution_count": 78,
      "metadata": {},
      "outputs": [
        {
          "name": "stdout",
          "output_type": "stream",
          "text": [
            "\n",
            "  INSERT INTO COMIC (Title,URL,CoverImage,Status,CreateAt,Rating) VALUES\n",
            "  ('0.0 Mhz - Tần Số Chết', '0-0-mhz-tan-so-chet', '0-0-mhz-tan-so-chet.jpg', 0, '10/01/2024', 10)\n",
            "\n"
          ]
        }
      ],
      "source": [
        "SQL_QUERY = \"\"\"\n",
        "  INSERT INTO COMIC (Title,URL,CoverImage,Status,CreateAt,Rating) VALUES\n",
        "  {0}\n",
        "\"\"\"\n",
        "print(SQL_QUERY.format(values))"
      ]
    },
    {
      "cell_type": "code",
      "execution_count": 88,
      "metadata": {},
      "outputs": [
        {
          "ename": "IntegrityError",
          "evalue": "UNIQUE constraint failed: COMIC.URL",
          "output_type": "error",
          "traceback": [
            "\u001b[1;31m---------------------------------------------------------------------------\u001b[0m",
            "\u001b[1;31mIntegrityError\u001b[0m                            Traceback (most recent call last)",
            "Input \u001b[1;32mIn [88]\u001b[0m, in \u001b[0;36m<cell line: 1>\u001b[1;34m()\u001b[0m\n\u001b[1;32m----> 1\u001b[0m \u001b[43mcursor\u001b[49m\u001b[38;5;241;43m.\u001b[39;49m\u001b[43mexecute\u001b[49m\u001b[43m(\u001b[49m\u001b[43mSQL_QUERY\u001b[49m\u001b[38;5;241;43m.\u001b[39;49m\u001b[43mformat\u001b[49m\u001b[43m(\u001b[49m\u001b[43mvalues\u001b[49m\u001b[43m)\u001b[49m\u001b[43m)\u001b[49m\n\u001b[0;32m      2\u001b[0m conn\u001b[38;5;241m.\u001b[39mcommit()\n",
            "\u001b[1;31mIntegrityError\u001b[0m: UNIQUE constraint failed: COMIC.URL"
          ]
        }
      ],
      "source": [
        "cursor.execute(SQL_QUERY.format(values))\n",
        "conn.commit()"
      ]
    },
    {
      "cell_type": "code",
      "execution_count": 11,
      "metadata": {},
      "outputs": [],
      "source": [
        "SQL_QUERY_GENRE = \"\"\"\n",
        "  Select * from GENRE\n",
        "\"\"\"\n",
        "cursor.execute(SQL_QUERY_GENRE)\n",
        "allGenre = cursor.fetchall()"
      ]
    },
    {
      "cell_type": "code",
      "execution_count": 12,
      "metadata": {},
      "outputs": [
        {
          "data": {
            "text/plain": [
              "[(1,\n",
              "  'Actio',\n",
              "  'Thể loại này thường có nội dung về đánh nhau, bạo lực, hỗn loạn, với diễn biến nhanh'),\n",
              " (2, 'Adult', 'Thể loại có đề cập đến vấn đề nhạy cảm, chỉ dành cho tuổi 17+'),\n",
              " (3,\n",
              "  'Adventure',\n",
              "  'Thể loại phiêu lưu, mạo hiểm, thường là hành trình của các nhân vật'),\n",
              " (4, 'Anime', 'Truyện đã được chuyển thể thành film Anime'),\n",
              " (5,\n",
              "  'Chuyển Sinh',\n",
              "  'Thể loại này là những câu chuyện về người ở một thế giới này xuyên đến một thế giới khác, có thể là thế giới mang phong cách trung cổ với kiếm sĩ và ma thuật, hay thế giới trong game, hoặc có thể là bạn chết ở nơi này và được chuyển sinh đến nơi khác'),\n",
              " (6,\n",
              "  'Comedy',\n",
              "  'Thể loại có nội dung trong sáng và cảm động, thường có các tình tiết gây cười, các xung đột nhẹ nhàng'),\n",
              " (7, 'Comic', 'Truyện tranh Châu Âu và Châu Mĩ'),\n",
              " (8, 'Cooking', 'Thể loại có nội dung về nấu ăn, ẩm thực'),\n",
              " (9, 'Cổ Đại', 'Truyện có nội dung xảy ra ở thời cổ đại phong kiến.'),\n",
              " (10,\n",
              "  'Doujinshi',\n",
              "  'Thể loại truyện phóng tác do fan hay có thể cả những Mangaka khác với tác giả truyện gốc. Tác giả vẽ Doujinshi thường dựa trên những nhân vật gốc để viết ra những câu chuyện theo sở thích của mình'),\n",
              " (11,\n",
              "  'Drama',\n",
              "  'Thể loại mang đến cho người xem những cảm xúc khác nhau: buồn bã, căng thẳng thậm chí là bi phẫ'),\n",
              " (12, 'Đam Mỹ', 'Truyện tình cảm giữa nam và nam.'),\n",
              " (13, 'Ecchi', 'Thường có những tình huống nhạy cảm nhằm lôi cuốn người xem'),\n",
              " (14,\n",
              "  'Fantasy',\n",
              "  'Thể loại xuất phát từ trí tưởng tượng phong phú, từ pháp thuật đến thế giới trong mơ thậm chí là những câu chuyện thần tiê'),\n",
              " (15,\n",
              "  'Gender Bender',\n",
              "  'Là một thể loại trong đó giới tính của nhân vật bị lẫn lộn: nam hoá thành nữ, nữ hóa thành nam...'),\n",
              " (16,\n",
              "  'Harem',\n",
              "  'Thể loại truyện tình cảm, lãng mạn mà trong đó, nhiều nhân vật nữ thích một nam nhân vật chính'),\n",
              " (17, 'Historical', 'Thể loại có liên quan đến thời xa xưa'),\n",
              " (18,\n",
              "  'Horror',\n",
              "  'Horror là: rùng rợn, nghe cái tên là bạn đã hiểu thể loại này có nội dung thế nào. Nó làm cho bạn kinh hãi, khiếp sợ, ghê tởm, run rẩy, có thể gây sock - một thể loại không dành cho người yếu tim'),\n",
              " (19,\n",
              "  'Josei',\n",
              "  'Thể loại của manga hay anime được sáng tác chủ yếu bởi phụ nữ cho những độc giả nữ từ 18 đến 30. Josei manga có thể miêu tả những lãng mạn thực tế , nhưng trái ngược với hầu hết các kiểu lãng mạn lí tưởng của Shoujo manga với cốt truyện rõ ràng, chín chắ'),\n",
              " (20, 'Live actio', 'Truyện đã được chuyển thể thành phim'),\n",
              " (21, 'Manga', 'Truyện tranh của Nhật Bả'),\n",
              " (22, 'Manhua', 'Truyện tranh của Trung Quốc'),\n",
              " (23, 'Manhwa', 'Truyện tranh Hàn Quốc, đọc từ trái sang phải'),\n",
              " (24,\n",
              "  'Martial Arts',\n",
              "  'Giống với tên gọi, bất cứ gì liên quan đến võ thuật trong truyện từ các trận đánh nhau, tự vệ đến các môn võ thuật như akido, karate, judo hay taekwondo, kendo, các cách né tránh'),\n",
              " (25,\n",
              "  'Mature',\n",
              "  'Thể loại dành cho lứa tuổi 17+ bao gồm các pha bạo lực, máu me, chém giết, tình dục ở mức độ vừa'),\n",
              " (26,\n",
              "  'Mecha',\n",
              "  'Mecha, còn được biết đến dưới cái tên meka hay mechs, là thể loại nói tới những cỗ máy biết đi (thường là do phi công cầm lái)'),\n",
              " (27,\n",
              "  'Mystery',\n",
              "  'Thể loại thường xuất hiện những điều bí ấn không thể lí giải được và sau đó là những nỗ lực của nhân vật chính nhằm tìm ra câu trả lời thỏa đáng'),\n",
              " (28,\n",
              "  'Ngôn Tình',\n",
              "  'Truyện thuộc kiểu lãng mạn, kể về những sự kiện vui buồn trong tình yêu của nhân vật chính.'),\n",
              " (29, 'One shot', 'Những truyện ngắn, thường là 1 chapter'),\n",
              " (30,\n",
              "  'Psychological',\n",
              "  'Thể loại liên quan đến những vấn đề về tâm lý của nhân vật ( tâm thần bất ổn, điên cuồng ...),'),\n",
              " (31,\n",
              "  'Romance',\n",
              "  'Thường là những câu chuyện về tình yêu, tình cảm lãng mạn. Ở đây chúng ta sẽ lấy ví dụ như tình yêu giữa một người con trai và con gái, bên cạnh đó đặc điểm thể loại này là kích thích trí tưởng tượng của bạn về tình yêu'),\n",
              " (32,\n",
              "  'School Life',\n",
              "  'Trong thể loại này, ngữ cảnh diễn biến câu chuyện chủ yếu ở trường học'),\n",
              " (33,\n",
              "  'Sci-fi',\n",
              "  'Bao gồm những chuyện khoa học viễn tưởng, đa phần chúng xoay quanh nhiều hiện tượng mà liên quan tới khoa học, công nghệ, tuy vậy thường thì những câu chuyện đó không gắn bó chặt chẽ với các thành tựu khoa học hiện thời, mà là do con người tưởng tượng ra'),\n",
              " (34,\n",
              "  'Seine',\n",
              "  'Thể loại của manga thường nhằm vào những đối tượng nam 18 đến 30 tuổi, nhưng người xem có thể lớn tuổi hơn, với một vài bộ truyện nhắm đến các doanh nhân nam quá 40. Thể loại này có nhiều phong cách riêng biệt, nhưng thể loại này có những nét riêng biệt, thường được phân vào những phong cách nghệ thuật rộng hơn và phong phú hơn về chủ đề, có các loại từ mới mẻ tiên tiến đến khiêu dâm'),\n",
              " (35,\n",
              "  'Shoujo',\n",
              "  'Đối tượng hướng tới của thể loại này là phái nữ. Nội dung của những bộ manga này thường liên quan đến tình cảm lãng mạn, chú trọng đầu tư cho nhân vật (tính cách,...)'),\n",
              " (36,\n",
              "  'Shoujo Ai',\n",
              "  'Thể loại quan hệ hoặc liên quan tới đồng tính nữ, thể hiện trong các mối quan hệ trên mức bình thường giữa các nhân vật nữ trong các manga, anime'),\n",
              " (37,\n",
              "  'Shoune',\n",
              "  'Đối tượng hướng tới của thể loại này là phái nam. Nội dung của những bộ manga này thường liên quan đến đánh nhau và/hoặc bạo lực (ở mức bình thường, không thái quá)'),\n",
              " (38,\n",
              "  'Shounen Ai',\n",
              "  'Thể loại có nội dung về tình yêu giữa những chàng trai trẻ, mang tính chất lãng mạn nhưng không đề cập đến quan hệ tình dục'),\n",
              " (39, 'Slice of Life', 'Nói về cuộc sống đời thường'),\n",
              " (40,\n",
              "  'Smut',\n",
              "  'Những truyện có nội dung hơi nhạy cảm, đặc biệt là liên quan đến tình dục'),\n",
              " (41, 'Soft Yaoi', 'Boy x Boy. Nặng hơn Shounen Ai tí.'),\n",
              " (42, 'Soft Yuri', 'Girl x Girl. Nặng hơn Shoujo Ai tí'),\n",
              " (43,\n",
              "  'Sports',\n",
              "  'Đúng như tên gọi, những môn thể thao như bóng đá, bóng chày, bóng chuyền, đua xe, cầu lông,... là một phần của thể loại này'),\n",
              " (44,\n",
              "  'Supernatural',\n",
              "  'Thể hiện những sức mạnh đáng kinh ngạc và không thể giải thích được, chúng thường đi kèm với những sự kiện trái ngược hoặc thách thức với những định luật vật lý'),\n",
              " (45, 'Thiếu Nhi', 'Truyện tranh dành cho lứa tuổi thiếu nhi'),\n",
              " (46,\n",
              "  'Tragedy',\n",
              "  'Thể loại chứa đựng những sự kiện mà dẫn đến kết cục là những mất mát hay sự rủi ro to lớ'),\n",
              " (47,\n",
              "  'Trinh Thám',\n",
              "  'Các truyện có nội dung về các vụ án, các thám tử cảnh sát điều tra...'),\n",
              " (48, 'Truyện sca', 'Các truyện đã phát hành tại VN được scan đăng online'),\n",
              " (49, 'Truyện Màu', 'Tổng hợp truyện tranh màu, rõ, đẹp'),\n",
              " (50,\n",
              "  'Webtoo',\n",
              "  'Là truyện tranh được đăng dài kỳ trên internet của Hàn Quốc chứ không xuất bản theo cách thông thường'),\n",
              " (51,\n",
              "  'Xuyên Không',\n",
              "  'Xuyên Không, Xuyên Việt là thể loại nhân vật chính vì một lý do nào đó mà bị đưa đến sinh sống ở một không gian hay một khoảng thời gian khác. Nhân vật chính có thể trực tiếp xuyên qua bằng thân xác mình hoặc sống lại bằng thân xác người khác.')]"
            ]
          },
          "execution_count": 12,
          "metadata": {},
          "output_type": "execute_result"
        }
      ],
      "source": [
        "allGenre"
      ]
    },
    {
      "cell_type": "code",
      "execution_count": 6,
      "metadata": {},
      "outputs": [],
      "source": [
        "sqliteConnection.close()"
      ]
    },
    {
      "cell_type": "code",
      "execution_count": null,
      "metadata": {},
      "outputs": [],
      "source": [
        "\"a-story-about-a-very-ordinary-couple.json\"\n",
        "\"cham-soc-cho-chi-dau.json\"\n",
        "\"chi-ton-tho-hao-he-thong.json\"\n",
        "\"chim-yen-khong-ve.json\"\n",
        "\"dendrobates.json\"\n",
        "\"giao-chu-tan-nhiem-muon-hoan-luong.json\"\n",
        "\"haru-no-ogawa-wa-dokidoki-suru-yo.json\"\n",
        "\"hong-trang-chuoc-chuoc.json\"\n",
        "\"jungle-wa-itsumo-hale-nochi-guu.json\"\n",
        "\"kakunaru-ue-ha.json\"\n",
        "\"ke-khung-bo.json\"\n",
        "\"kimi-wa-maru-de-ano-hana-no-you-de.json\"\n",
        "\"ma-nhan-hoa-son.json\"\n",
        "\"mahoutsukai-to-deshi-no-futekisetsu-na-kankei.json\"\n",
        "\"miunohri-to-swan-co-nang-xinh-dep.json\"\n",
        "\"nhom-nhac-thien-ha-lich.json\"\n",
        "\"onose-to-sugoshita.json\"\n",
        "\"purple-hyacinth.json\"\n",
        "\"rakuraku-shinwa.json\"\n",
        "\"te-bao-than-quoc.json\"\n",
        "\"the-gladiator.json\"\n",
        "\"toi-co-thuoc-hoi-han.json\"\n",
        "\"toi-ganh-team-mot-minh.json\"\n",
        "\"truyen-sims-write-up-your-life-with-color.json\"\n",
        "\"xe-ban-thuc-an-dien-loan.json\"\n",
        "\"yuusha-sama-ni-ikinari-kyuukonsareta-no-desu-ga.json\""
      ]
    },
    {
      "cell_type": "code",
      "execution_count": null,
      "metadata": {},
      "outputs": [],
      "source": []
    }
  ],
  "metadata": {
    "colab": {
      "private_outputs": true,
      "provenance": []
    },
    "kernelspec": {
      "display_name": "Python 3",
      "name": "python3"
    },
    "language_info": {
      "codemirror_mode": {
        "name": "ipython",
        "version": 3
      },
      "file_extension": ".py",
      "mimetype": "text/x-python",
      "name": "python",
      "nbconvert_exporter": "python",
      "pygments_lexer": "ipython3",
      "version": "3.9.1"
    }
  },
  "nbformat": 4,
  "nbformat_minor": 0
}
