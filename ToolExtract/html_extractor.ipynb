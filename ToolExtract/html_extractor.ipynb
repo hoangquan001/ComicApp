{
  "cells": [
    {
      "cell_type": "code",
      "execution_count": null,
      "metadata": {
        "id": "yoxqp1wzhQiM"
      },
      "outputs": [],
      "source": [
        "pip install jmespath parsel unidecode"
      ]
    },
    {
      "cell_type": "code",
      "execution_count": null,
      "metadata": {
        "id": "gCzx9ibLhXFc"
      },
      "outputs": [],
      "source": [
        "import json\n",
        "import requests\n",
        "import jmespath\n",
        "from parsel import Selector"
      ]
    },
    {
      "cell_type": "markdown",
      "metadata": {
        "id": "zCQmjdSris6t"
      },
      "source": []
    },
    {
      "cell_type": "code",
      "execution_count": 39,
      "metadata": {
        "id": "DcQEsiDiJcFT"
      },
      "outputs": [],
      "source": [
        "\n",
        "def SaveJSON(fileName,JsonComic):\n",
        "  with open(f\"{fileName}.json\", \"w\") as outfile:\n",
        "      json.dump(JsonComic, outfile,indent= 2)\n",
        "\n",
        "\n",
        "def GetComicJSON(urlComic):\n",
        "  response = requests.get(f'https://doctruyenonline.vn/truyen-tranh/{urlComic}')\n",
        "  assert (response.status_code == 200)\n",
        "  selector = Selector(text=response.text)\n",
        "  json_data = selector.css(\"script[type='application/json']::text\").get()\n",
        "  data = json.loads(json_data)\n",
        "  # JMESPath expressions\n",
        "  expression = jmespath.compile(\n",
        "      \"\"\"\n",
        "      {\n",
        "        \"Title\": props.pageProps.comic[0].nameComic,\n",
        "        \"URL\": props.pageProps.comic[0].urlComic,\n",
        "        \"CoverImage\":   props.pageProps.comic[0].imgComic,\n",
        "        \"CreateAt\":  props.pageProps.comic[0].create_date\n",
        "        \"statusComic\": props.pageProps.comic[0].statusComic\n",
        "        \"Category\":   props.pageProps.comic[0].category[*].name_cate,\n",
        "        \"LastChapter\": props.pageProps.comic[0].lastChapter\n",
        "        \"TotalChapter\": props.pageProps.comic[0].totalChapter\n",
        "        \"Chapters\": props.pageProps.listChapter[0].{urlChapter:urlChapter, dateUpdateChapter: dateUpdateChapter}\n",
        "      }\n",
        "      \"\"\"\n",
        "  )\n",
        "  flat_data = expression.search(data)\n",
        "  return flat_data\n",
        "\n",
        "\n",
        "\n",
        "\n",
        "\n",
        "import time\n"
      ]
    },
    {
      "cell_type": "code",
      "execution_count": 41,
      "metadata": {},
      "outputs": [],
      "source": [
        "ListComic = {\"comic\":[]}\n",
        "def fetchData(start, end):\n",
        "    global ListComic\n",
        "    starting = True\n",
        "    idx = 1\n",
        "    expression = jmespath.compile(\n",
        "        \"\"\"\n",
        "        {\n",
        "        \"comic\": props.pageProps.dataComicNew[*].\n",
        "        {\n",
        "            urlComic:urlComic,\n",
        "            totalChapter:totalChapter,\n",
        "            createDateComic:createDateComic,\n",
        "            lastUpdateChapter:lastUpdateChapter\n",
        "            }\n",
        "        }\n",
        "        \"\"\"\n",
        "    )\n",
        "    idx = start\n",
        "    while idx<=end:\n",
        "        print(f\"fetching {idx}\\n\")\n",
        "        # start = time.time()\n",
        "        response = requests.get(f'https://doctruyenonline.vn/truyen-tranh/tim-truyen?status=2&sort=2&page={idx}')\n",
        "        idx+=1\n",
        "        assert (response.status_code == 200)\n",
        "        selector = Selector(text=response.text)\n",
        "        json_data = selector.css(\"script[type='application/json']::text\").get()\n",
        "        data = json.loads(json_data)\n",
        "        flat_data = expression.search(data)\n",
        "        if(flat_data[\"comic\"] == []): break\n",
        "        ListComic[\"comic\"].extend(flat_data[\"comic\"])\n",
        "        # end = time.time()\n",
        "        # eplap = end - start\n",
        "        # if(eplap <2):\n",
        "        #     time.sleep(2 - eplap)\n",
        "\n",
        "        # for oneComic in flat_data[\"comic\"]:\n",
        "            # urlComic = oneComic[\"urlComic\"]\n",
        "        #     JsonComic = GetComicJSON(urlComic)\n",
        "            # SaveJSON(f\"ComicData/{urlComic}\",JsonComic)\n",
        "    \n",
        "    return ListComic"
      ]
    },
    {
      "cell_type": "code",
      "execution_count": 42,
      "metadata": {
        "id": "gsZXDhC-nKAn"
      },
      "outputs": [
        {
          "name": "stdout",
          "output_type": "stream",
          "text": [
            "fetching 1\n",
            "fetching 6\n",
            "\n",
            "\n",
            "fetching 11\n",
            "\n",
            "fetching 12\n",
            "\n",
            "fetching 2\n",
            "\n",
            "fetching 7\n",
            "\n",
            "fetching 13\n",
            "\n",
            "fetching 3\n",
            "\n",
            "fetching 8\n",
            "\n",
            "fetching 14\n",
            "\n",
            "fetching 4\n",
            "\n",
            "fetching 9\n",
            "\n",
            "fetching 15\n",
            "\n",
            "fetching 5\n",
            "\n",
            "fetching 10\n",
            "\n"
          ]
        }
      ],
      "source": [
        "import threading\n",
        "t1 = threading.Thread(target=fetchData, args=(1, 5))\n",
        "t2 = threading.Thread(target=fetchData, args=(6, 10))\n",
        "t3 = threading.Thread(target=fetchData, args=(11, 15))\n",
        "t1.start()\n",
        "t2.start()\n",
        "t3.start()\n",
        "t1.join()\n",
        "t2.join()\n",
        "t3.join()\n",
        "SaveJSON(\"mapComic\",ListComic)"
      ]
    },
    {
      "cell_type": "code",
      "execution_count": null,
      "metadata": {
        "id": "sau-K857kUnw"
      },
      "outputs": [],
      "source": [
        "for oneComic in flat_data[\"comic\"]:\n",
        "  print(oneComic[\"urlComic\"])"
      ]
    },
    {
      "cell_type": "code",
      "execution_count": null,
      "metadata": {
        "id": "30U8t23iND8j"
      },
      "outputs": [],
      "source": []
    },
    {
      "cell_type": "code",
      "execution_count": null,
      "metadata": {
        "id": "3TJ2kL1GtKg2"
      },
      "outputs": [],
      "source": [
        "GetChapterOfComicJSON(\"cuop-dau\", chapter=1)\n"
      ]
    },
    {
      "cell_type": "code",
      "execution_count": null,
      "metadata": {
        "id": "Iipo8GwjsCvH"
      },
      "outputs": [],
      "source": [
        "def GetChapterOfComicJSON(urlComic, chapter=1):\n",
        "  response = requests.get(f'https://doctruyenonline.vn/truyen-tranh/{urlComic}/chapter-{chapter}')\n",
        "  assert (response.status_code == 200)\n",
        "  selector = Selector(text=response.text)\n",
        "  json_data = selector.css(\"script[type='application/json']::text\").get()\n",
        "  data = json.loads(json_data)\n",
        "  expression = jmespath.compile(\n",
        "      \"\"\"\n",
        "      {\n",
        "        \"Page\": props.pageProps.dataContentChapter[*].{indexImg:indexImg,imgChapter:imgChapter}\n",
        "      }\n",
        "      \"\"\"\n",
        "  )\n",
        "  flat_data = expression.search(data)\n",
        "  return flat_data"
      ]
    },
    {
      "cell_type": "code",
      "execution_count": null,
      "metadata": {
        "id": "HvukkrrrVdGg"
      },
      "outputs": [],
      "source": [
        "JsonComic = GetComicJSON(\"toi-se-bi-tru-khu-cung-hoang-de\")"
      ]
    },
    {
      "cell_type": "code",
      "execution_count": null,
      "metadata": {
        "id": "m8wWdzVMgYki"
      },
      "outputs": [],
      "source": [
        "JsonComic"
      ]
    },
    {
      "cell_type": "code",
      "execution_count": null,
      "metadata": {
        "id": "t6PmiNoAZOTl"
      },
      "outputs": [],
      "source": [
        "# encodedUnicode = json.dumps(JsonComic, ensure_ascii=False)\n"
      ]
    },
    {
      "cell_type": "code",
      "execution_count": null,
      "metadata": {
        "id": "iewol4Q7CDRe"
      },
      "outputs": [],
      "source": []
    },
    {
      "cell_type": "code",
      "execution_count": null,
      "metadata": {
        "id": "MKiD8NGAEtED"
      },
      "outputs": [],
      "source": [
        "import unidecode\n",
        "import re\n",
        "def CreateSlug(accented_string:str):\n",
        "\n",
        "  # accented_string is of type 'unicode'\n",
        "  unaccented_string = unidecode.unidecode(accented_string).lower()\n",
        "  unaccented_string = re.sub(r\"[^\\w\\s]\", '', unaccented_string)\n",
        "  unaccented_string=re.sub(r\"\\s+\",\"-\",unaccented_string)\n",
        "  return unaccented_string\n",
        "\n",
        "CreateSlug(\"Tu Ti\\u00ean \\u1ede Th\\u1ebf Gi\\u1edbi Si\\u00eau N\\u0103ng L\\u1ef1c\")"
      ]
    },
    {
      "cell_type": "code",
      "execution_count": null,
      "metadata": {
        "id": "RPz6vb0Qh1oV"
      },
      "outputs": [],
      "source": [
        "from bs4 import BeautifulSoup\n",
        "\n",
        "# Assuming we have an HTML document in the 'html_content' variable\n",
        "soup = BeautifulSoup(html_content, 'html.parser')\n",
        "\n",
        "# Find the desired element and extract its text using get_text()\n",
        "elements = soup.find_all('span',itemprop=\"name\")\n",
        "\n",
        "#get_text with strip set to true\n",
        "for idx,element in  enumerate(elements):\n",
        "  print(f\"({idx},{element.text})\")"
      ]
    }
  ],
  "metadata": {
    "colab": {
      "private_outputs": true,
      "provenance": []
    },
    "kernelspec": {
      "display_name": "Python 3",
      "name": "python3"
    },
    "language_info": {
      "name": "python"
    }
  },
  "nbformat": 4,
  "nbformat_minor": 0
}
