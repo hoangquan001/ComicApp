{
  "cells": [
    {
      "cell_type": "code",
      "execution_count": null,
      "metadata": {
        "id": "yoxqp1wzhQiM"
      },
      "outputs": [],
      "source": [
        "pip install jmespath parsel unidecode pyodbc"
      ]
    },
    {
      "cell_type": "code",
      "execution_count": 15,
      "metadata": {
        "id": "gCzx9ibLhXFc"
      },
      "outputs": [],
      "source": [
        "import json\n",
        "import requests\n",
        "import jmespath\n",
        "from parsel import Selector\n",
        "import os"
      ]
    },
    {
      "cell_type": "markdown",
      "metadata": {
        "id": "zCQmjdSris6t"
      },
      "source": []
    },
    {
      "cell_type": "code",
      "execution_count": 1,
      "metadata": {},
      "outputs": [],
      "source": [
        "def SaveJSON(fileName,JsonComic):\n",
        "  print(fileName+\"\\n\")\n",
        "  with open(f\"{fileName}.json\", \"w\") as outfile:\n",
        "      json.dump(JsonComic, outfile,indent= 2)"
      ]
    },
    {
      "cell_type": "code",
      "execution_count": 4,
      "metadata": {},
      "outputs": [],
      "source": [
        "f = open('mapComic.json')\n",
        "ListComic = json.load(f)"
      ]
    },
    {
      "cell_type": "code",
      "execution_count": 31,
      "metadata": {},
      "outputs": [
        {
          "name": "stdout",
          "output_type": "stream",
          "text": [
            "732 ke-khung-bo\n",
            "2282 a-story-about-a-very-ordinary-couple\n",
            "6154 cham-soc-cho-chi-dau\n",
            "6337 cham-soc-cho-chi-dau\n",
            "8711 xe-ban-thuc-an-dien-loan\n",
            "9038 purple-hyacinth\n",
            "10513 kimi-wa-maru-de-ano-hana-no-you-de\n",
            "11762 jungle-wa-itsumo-hale-nochi-guu\n",
            "12071 mahoutsukai-to-deshi-no-futekisetsu-na-kankei\n",
            "12074 giao-chu-tan-nhiem-muon-hoan-luong\n",
            "12075 toi-ganh-team-mot-minh\n",
            "12076 toi-co-thuoc-hoi-han\n",
            "12077 majo-senpai-nichijou\n",
            "12127 shinigamihime-no-saikon\n",
            "12135 haru-no-ogawa-wa-dokidoki-suru-yo\n",
            "12136 truyen-sims-write-up-your-life-with-color\n",
            "12284 hong-trang-chuoc-chuoc\n",
            "12285 tatakae-ry-zanpaku-shij-saiky-no-deshi\n",
            "12289 the-gladiator\n",
            "12293 chom-sao-bac-cuc-cua-chung-ta\n",
            "12314 onose-to-sugoshita\n",
            "12316 con-rong-hau-gai\n",
            "12493 miunohri-to-swan-co-nang-xinh-dep\n",
            "12727 chim-yen-khong-ve\n",
            "12772 nhom-nhac-thien-ha-lich\n",
            "14979 nhom-nhac-thien-ha-lich\n",
            "15512 dendrobates\n",
            "15692 choegang-geunyeo\n",
            "16122 te-bao-than-quoc\n",
            "16854 jungle-wa-itsumo-hale-nochi-guu\n",
            "17717 chi-ton-tho-hao-he-thong\n"
          ]
        }
      ],
      "source": [
        "for idx,oneComic in  enumerate(ListComic[\"comic\"]):\n",
        "    flag = os.path.isfile(f\"ComicData/{oneComic['urlComic']}.json\")\n",
        "    if(not flag) :\n",
        "        # continue\n",
        "        print(idx,oneComic['urlComic'])\n",
        "    # f = open(f\"ComicData/{oneComic['urlComic']}.json\")\n",
        "    # data = json.load(f)\n",
        "    # if (not data['URL']):\n",
        "    #     print(idx,oneComic['urlComic'])\n",
        "    #     f.close()\n",
        "    #     os.remove (f\"ComicData/{oneComic['urlComic']}.json\")"
      ]
    },
    {
      "cell_type": "code",
      "execution_count": 38,
      "metadata": {},
      "outputs": [],
      "source": [
        "allcomicstring =\"\"\"\n",
        "        {\n",
        "          \"comic\": props.pageProps.dataComicNew[*].\n",
        "          {\n",
        "            urlComic:urlComic,\n",
        "            totalChapter:totalChapter,\n",
        "            createDateComic:createDateComic,\n",
        "            lastUpdateChapter:lastUpdateChapter\n",
        "          }\n",
        "        }\n",
        "\"\"\"\n",
        "def GetAllComicMapJSON():\n",
        "  ListComic = {\"comic\":[]}\n",
        "  expression = jmespath.compile( allcomicstring )\n",
        "  for idx in range(1, 600):\n",
        "    response = requests.get(f'https://doctruyenonline.vn/truyen-tranh/tim-truyen?status=2&sort=2&page={idx}')\n",
        "    if(response.status_code != 200):\n",
        "      print(f'Fetching Error Page{idx} {response.status_code}')\n",
        "      continue\n",
        "    print(f'Fetching Page{idx} {response.status_code}')\n",
        "    selector = Selector(text=response.text)\n",
        "    json_data = selector.css(\"script[type='application/json']::text\").get()\n",
        "    data = json.loads(json_data)\n",
        "    flat_data = expression.search(data)\n",
        "    if(flat_data[\"comic\"] == []): break\n",
        "    ListComic[\"comic\"].extend(flat_data[\"comic\"])\n",
        "  return ListComic\n"
      ]
    },
    {
      "cell_type": "code",
      "execution_count": null,
      "metadata": {},
      "outputs": [],
      "source": [
        "ListComic = GetAllComicMapJSON()"
      ]
    },
    {
      "cell_type": "code",
      "execution_count": 50,
      "metadata": {},
      "outputs": [],
      "source": [
        "page_not_found = []\n",
        "comic_not_found = []"
      ]
    },
    {
      "cell_type": "code",
      "execution_count": 53,
      "metadata": {},
      "outputs": [],
      "source": [
        "def GetComicJSON(urlComic):\n",
        "  global comic_not_found\n",
        "  response = requests.get(f'https://doctruyenonline.vn/truyen-tranh/{urlComic}')\n",
        "  if (response.status_code != 200):\n",
        "    print(response.status_code)\n",
        "    comic_not_found.append(urlComic)\n",
        "    return None\n",
        "  selector = Selector(text=response.text)\n",
        "  json_data = selector.css(\"script[type='application/json']::text\").get()\n",
        "\n",
        "  data = json.loads(json_data)\n",
        "  expression = jmespath.compile(\n",
        "      \"\"\"\n",
        "      {\n",
        "        \"Title\": props.pageProps.comic[0].nameComic,\n",
        "        \"URL\": props.pageProps.comic[0].urlComic,\n",
        "        \"CoverImage\":   props.pageProps.comic[0].imgComic,\n",
        "        \"CreateAt\":  props.pageProps.comic[0].create_date\n",
        "        \"statusComic\": props.pageProps.comic[0].statusComic\n",
        "        \"Category\":   props.pageProps.comic[0].category[*].name_cate,\n",
        "        \"LastChapter\": props.pageProps.comic[0].lastChapter\n",
        "        \"TotalChapter\": props.pageProps.comic[0].totalChapter\n",
        "        \"Chapters\": props.pageProps.listChapter[0].{urlChapter:urlChapter, dateUpdateChapter: dateUpdateChapter}\n",
        "      }\n",
        "      \"\"\"\n",
        "  )\n",
        "  flat_data = expression.search(data)\n",
        "  return flat_data\n",
        "\n",
        "\n",
        "def fetchData(start = 0, end = 100):\n",
        "    global ListComic\n",
        "    for idx,oneComic in  enumerate(ListComic[\"comic\"][start:end]):\n",
        "        urlComic = oneComic[\"urlComic\"]\n",
        "        JsonComic = GetComicJSON(urlComic)\n",
        "        if (JsonComic == None): continue\n",
        "        print(f\"({idx},{JsonComic['Title']})\")\n",
        "        SaveJSON(f\"ComicData/{urlComic}\",JsonComic)"
      ]
    },
    {
      "cell_type": "code",
      "execution_count": 60,
      "metadata": {},
      "outputs": [
        {
          "name": "stdout",
          "output_type": "stream",
          "text": [
            "100\n",
            "200\n",
            "300\n",
            "400\n",
            "500\n",
            "600\n",
            "700\n",
            "800\n",
            "900\n",
            "1000\n"
          ]
        }
      ],
      "source": [
        "for i in range(100,1100,100):\n",
        "    print(i)"
      ]
    },
    {
      "cell_type": "code",
      "execution_count": null,
      "metadata": {},
      "outputs": [],
      "source": [
        "import threading\n",
        "for i in range(100,10000,100):\n",
        "    th1 = threading.Thread(target=fetchData, args=(i, i+100))\n",
        "    th1.start()"
      ]
    },
    {
      "cell_type": "code",
      "execution_count": 31,
      "metadata": {},
      "outputs": [
        {
          "name": "stdout",
          "output_type": "stream",
          "text": [
            "mapComic\n",
            "\n"
          ]
        }
      ],
      "source": [
        "SaveJSON(f\"mapComic\",ListComic)"
      ]
    },
    {
      "cell_type": "code",
      "execution_count": 9,
      "metadata": {
        "id": "Iipo8GwjsCvH"
      },
      "outputs": [],
      "source": [
        "def GetChapterOfComicJSON(urlComic, chapter=1):\n",
        "  response = requests.get(f'https://doctruyenonline.vn/truyen-tranh/{urlComic}/chapter-{chapter}')\n",
        "  print(response.status_code)\n",
        "  \n",
        "  selector = Selector(text=response.text)\n",
        "  json_data = selector.css(\"script[type='application/json']::text\").get()\n",
        "  data = json.loads(json_data)\n",
        "  expression = jmespath.compile(\n",
        "      \"\"\"\n",
        "      {\n",
        "        \"Page\": props.pageProps.dataContentChapter[*].{indexImg:indexImg,imgChapter:imgChapter}\n",
        "      }\n",
        "      \"\"\"\n",
        "  )\n",
        "  flat_data = expression.search(data)\n",
        "  return flat_data"
      ]
    },
    {
      "cell_type": "code",
      "execution_count": 39,
      "metadata": {
        "id": "MKiD8NGAEtED"
      },
      "outputs": [
        {
          "data": {
            "text/plain": [
              "'tu-tien-o-the-gioi-sieu-nang-luc'"
            ]
          },
          "execution_count": 39,
          "metadata": {},
          "output_type": "execute_result"
        }
      ],
      "source": [
        "import unidecode\n",
        "import re\n",
        "def CreateSlug(accented_string:str):\n",
        "\n",
        "  # accented_string is of type 'unicode'\n",
        "  unaccented_string = unidecode.unidecode(accented_string).lower()\n",
        "  unaccented_string = re.sub(r\"[^\\w\\s]\", '', unaccented_string)\n",
        "  unaccented_string=re.sub(r\"\\s+\",\"-\",unaccented_string)\n",
        "  return unaccented_string\n",
        "\n",
        "CreateSlug(\"Tu Ti\\u00ean \\u1ede Th\\u1ebf Gi\\u1edbi Si\\u00eau N\\u0103ng L\\u1ef1c\")"
      ]
    },
    {
      "cell_type": "code",
      "execution_count": null,
      "metadata": {
        "id": "RPz6vb0Qh1oV"
      },
      "outputs": [],
      "source": [
        "from bs4 import BeautifulSoup\n",
        "\n",
        "# Assuming we have an HTML document in the 'html_content' variable\n",
        "soup = BeautifulSoup(html_content, 'html.parser')\n",
        "\n",
        "# Find the desired element and extract its text using get_text()\n",
        "elements = soup.find_all('span',itemprop=\"name\")\n",
        "\n",
        "#get_text with strip set to true\n",
        "for idx,element in  enumerate(elements):\n",
        "  print(f\"({idx},{element.text})\")"
      ]
    },
    {
      "cell_type": "code",
      "execution_count": 6,
      "metadata": {},
      "outputs": [],
      "source": [
        "import pyodbc \n",
        "server = 'DESKTOP-33SUFGJ\\\\SQLEXPRESS'\n",
        "database = 'ComicApp'\n",
        "username = 'your_username'\n",
        "password = 'your_password'\n",
        "connectionString = f'DRIVER={{SQL Server}};SERVER={server};DATABASE={database};'"
      ]
    },
    {
      "cell_type": "code",
      "execution_count": 34,
      "metadata": {},
      "outputs": [],
      "source": [
        "conn = pyodbc.connect(connectionString)\n",
        "cursor = conn.cursor()"
      ]
    },
    {
      "cell_type": "code",
      "execution_count": 8,
      "metadata": {},
      "outputs": [
        {
          "data": {
            "text/plain": [
              "<pyodbc.Cursor at 0x1ed161ecb30>"
            ]
          },
          "execution_count": 8,
          "metadata": {},
          "output_type": "execute_result"
        }
      ],
      "source": [
        "SQL_QUERY = \"\"\"\n",
        "SELECT * FROM COMIC\n",
        "\"\"\"\n",
        "cursor = conn.cursor()\n",
        "cursor.execute(SQL_QUERY)\n"
      ]
    },
    {
      "cell_type": "code",
      "execution_count": 11,
      "metadata": {},
      "outputs": [],
      "source": [
        "cursor.fetchone()"
      ]
    },
    {
      "cell_type": "code",
      "execution_count": 4,
      "metadata": {},
      "outputs": [],
      "source": [
        "for i in cursor:\n",
        "    print(i)"
      ]
    },
    {
      "cell_type": "code",
      "execution_count": 32,
      "metadata": {},
      "outputs": [
        {
          "data": {
            "text/plain": [
              "20633"
            ]
          },
          "execution_count": 32,
          "metadata": {},
          "output_type": "execute_result"
        }
      ],
      "source": [
        "import glob\n",
        "\n",
        "listPath = glob.glob(\"ComicData/*\")\n",
        "len(listPath)"
      ]
    },
    {
      "cell_type": "markdown",
      "metadata": {},
      "source": [
        "# Query all Genre"
      ]
    },
    {
      "cell_type": "code",
      "execution_count": 89,
      "metadata": {},
      "outputs": [
        {
          "data": {
            "text/plain": [
              "{'action': 1,\n",
              " 'adult': 2,\n",
              " 'adventure': 3,\n",
              " 'anime': 4,\n",
              " 'chuyen-sinh': 5,\n",
              " 'comedy': 6,\n",
              " 'comic': 7,\n",
              " 'cooking': 8,\n",
              " 'co-dai': 9,\n",
              " 'doujinshi': 10,\n",
              " 'drama': 11,\n",
              " 'dam-my': 12,\n",
              " 'ecchi': 13,\n",
              " 'fantasy': 14,\n",
              " 'gender-bender': 15,\n",
              " 'harem': 16,\n",
              " 'historical': 17,\n",
              " 'horror': 18,\n",
              " 'josei': 19,\n",
              " 'live-action': 20,\n",
              " 'manga': 21,\n",
              " 'manhua': 22,\n",
              " 'manhwa': 23,\n",
              " 'martial-arts': 24,\n",
              " 'mature': 25,\n",
              " 'mecha': 26,\n",
              " 'mystery': 27,\n",
              " 'ngon-tinh': 28,\n",
              " 'one-shot': 29,\n",
              " 'psychological': 30,\n",
              " 'romance': 31,\n",
              " 'school-life': 32,\n",
              " 'scifi': 33,\n",
              " 'seinen': 34,\n",
              " 'shoujo': 35,\n",
              " 'shoujo-ai': 36,\n",
              " 'shounen': 37,\n",
              " 'shounen-ai': 38,\n",
              " 'slice-of-life': 39,\n",
              " 'smut': 40,\n",
              " 'soft-yaoi': 41,\n",
              " 'soft-yuri': 42,\n",
              " 'sports': 43,\n",
              " 'supernatural': 44,\n",
              " 'thieu-nhi': 45,\n",
              " 'tragedy': 46,\n",
              " 'trinh-tham': 47,\n",
              " 'truyen-scan': 48,\n",
              " 'truyen-mau': 49,\n",
              " 'webtoon': 50,\n",
              " 'xuyen-khong': 51}"
            ]
          },
          "execution_count": 89,
          "metadata": {},
          "output_type": "execute_result"
        }
      ],
      "source": [
        "SQL_QUERY_GENRE = \"\"\"\n",
        "  Select * from GENRE\n",
        "\"\"\"\n",
        "cursor.execute(SQL_QUERY_GENRE)\n",
        "allGenre = cursor.fetchall()\n",
        "dictGenre = {}\n",
        "for genre in allGenre:\n",
        "  slug = CreateSlug(genre[1])\n",
        "  dictGenre[slug] = genre[0]\n",
        "dictGenre"
      ]
    },
    {
      "cell_type": "markdown",
      "metadata": {},
      "source": [
        "# Insert genre for comic"
      ]
    },
    {
      "cell_type": "code",
      "execution_count": 74,
      "metadata": {},
      "outputs": [],
      "source": [
        "def FindComicID(cursor:pyodbc.Cursor,urlComic):\n",
        "  #sql query\n",
        "  SQL_QUERY = f\"\"\"\n",
        "  Select * from COMIC where URL = '{urlComic}'\n",
        "  \"\"\"\n",
        "  cursor.execute(SQL_QUERY)\n",
        "  comic = cursor.fetchone()\n",
        "  if(comic):\n",
        "    return comic[0]\n",
        "  return None"
      ]
    },
    {
      "cell_type": "code",
      "execution_count": 75,
      "metadata": {},
      "outputs": [
        {
          "data": {
            "text/plain": [
              "21622"
            ]
          },
          "execution_count": 75,
          "metadata": {},
          "output_type": "execute_result"
        }
      ],
      "source": []
    },
    {
      "cell_type": "code",
      "execution_count": 91,
      "metadata": {},
      "outputs": [
        {
          "name": "stdout",
          "output_type": "stream",
          "text": [
            "ComicData\\kakunaru-ue-ha.json\n",
            "ComicData\\ma-nhan-hoa-son.json\n",
            "ComicData\\rakuraku-shinwa.json\n",
            "ComicData\\yuusha-sama-ni-ikinari-kyuukonsareta-no-desu-ga.json\n"
          ]
        }
      ],
      "source": [
        "SQL_QUERY = \"\"\"\n",
        " INSERT INTO COMIC_GENRE (genreid, comicid) VALUES\n",
        "  (?,?)\n",
        "\"\"\"\n",
        "for path in listPath:\n",
        "  f = open(path)\n",
        "  datajson = json.load(f)\n",
        "  if(not datajson['URL']):\n",
        "    print(path)\n",
        "    continue\n",
        "  for genre in datajson['Category']:\n",
        "    slug = CreateSlug(genre)\n",
        "    if(slug not in dictGenre): \n",
        "      continue\n",
        "    genreid = dictGenre[slug]\n",
        "    comicid = FindComicID(cursor,datajson['URL'])\n",
        "    if(comicid == None): continue\n",
        "    VALUES =(genreid,comicid)\n",
        "    cursor.execute(SQL_QUERY,VALUES)\n",
        "    conn.commit()"
      ]
    },
    {
      "cell_type": "code",
      "execution_count": 84,
      "metadata": {},
      "outputs": [],
      "source": [
        "conn.commit()"
      ]
    },
    {
      "cell_type": "code",
      "execution_count": null,
      "metadata": {},
      "outputs": [],
      "source": [
        "SQL_QUERY = \"\"\"\n",
        "  SET DATEFORMAT dmy;\n",
        "  INSERT INTO COMIC (Title,URL,CoverImage,Status,CreateAt,Rating) VALUES\n",
        "  (?,?,?,?,?,?)\n",
        "\"\"\"\n",
        "for path in listPath:\n",
        "  f = open(path)\n",
        "  datajson = json.load(f)\n",
        "  if(not datajson['URL']):\n",
        "    print(path)\n",
        "    continue\n",
        "  VALUES =(datajson['Title'],datajson['URL'],datajson['CoverImage'],datajson['statusComic'],datajson['CreateAt'],10)\n",
        "  cursor.execute(SQL_QUERY,VALUES)\n",
        "  conn.commit()\n",
        "# cursor.close()\n"
      ]
    },
    {
      "cell_type": "code",
      "execution_count": null,
      "metadata": {},
      "outputs": [],
      "source": []
    },
    {
      "cell_type": "code",
      "execution_count": null,
      "metadata": {},
      "outputs": [],
      "source": [
        "\"a-story-about-a-very-ordinary-couple.json\"\n",
        "\"cham-soc-cho-chi-dau.json\"\n",
        "\"chi-ton-tho-hao-he-thong.json\"\n",
        "\"chim-yen-khong-ve.json\"\n",
        "\"dendrobates.json\"\n",
        "\"giao-chu-tan-nhiem-muon-hoan-luong.json\"\n",
        "\"haru-no-ogawa-wa-dokidoki-suru-yo.json\"\n",
        "\"hong-trang-chuoc-chuoc.json\"\n",
        "\"jungle-wa-itsumo-hale-nochi-guu.json\"\n",
        "\"kakunaru-ue-ha.json\"\n",
        "\"ke-khung-bo.json\"\n",
        "\"kimi-wa-maru-de-ano-hana-no-you-de.json\"\n",
        "\"ma-nhan-hoa-son.json\"\n",
        "\"mahoutsukai-to-deshi-no-futekisetsu-na-kankei.json\"\n",
        "\"miunohri-to-swan-co-nang-xinh-dep.json\"\n",
        "\"nhom-nhac-thien-ha-lich.json\"\n",
        "\"onose-to-sugoshita.json\"\n",
        "\"purple-hyacinth.json\"\n",
        "\"rakuraku-shinwa.json\"\n",
        "\"te-bao-than-quoc.json\"\n",
        "\"the-gladiator.json\"\n",
        "\"toi-co-thuoc-hoi-han.json\"\n",
        "\"toi-ganh-team-mot-minh.json\"\n",
        "\"truyen-sims-write-up-your-life-with-color.json\"\n",
        "\"xe-ban-thuc-an-dien-loan.json\"\n",
        "\"yuusha-sama-ni-ikinari-kyuukonsareta-no-desu-ga.json\""
      ]
    },
    {
      "cell_type": "code",
      "execution_count": null,
      "metadata": {},
      "outputs": [],
      "source": []
    }
  ],
  "metadata": {
    "colab": {
      "private_outputs": true,
      "provenance": []
    },
    "kernelspec": {
      "display_name": "Python 3",
      "name": "python3"
    },
    "language_info": {
      "codemirror_mode": {
        "name": "ipython",
        "version": 3
      },
      "file_extension": ".py",
      "mimetype": "text/x-python",
      "name": "python",
      "nbconvert_exporter": "python",
      "pygments_lexer": "ipython3",
      "version": "3.10.9"
    }
  },
  "nbformat": 4,
  "nbformat_minor": 0
}
